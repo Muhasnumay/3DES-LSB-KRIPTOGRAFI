{
  "cells": [
    {
      "cell_type": "code",
      "execution_count": null,
      "metadata": {
        "colab": {
          "base_uri": "https://localhost:8080/"
        },
        "id": "UZLjFOXxdelQ",
        "outputId": "3f4b7c29-e971-41a7-f4bb-0910bc59c0c9"
      },
      "outputs": [
        {
          "output_type": "stream",
          "name": "stdout",
          "text": [
            "Looking in indexes: https://pypi.org/simple, https://us-python.pkg.dev/colab-wheels/public/simple/\n",
            "Collecting pycrypto\n",
            "  Downloading pycrypto-2.6.1.tar.gz (446 kB)\n",
            "\u001b[2K     \u001b[90m━━━━━━━━━━━━━━━━━━━━━━━━━━━━━━━━━━━━━━━\u001b[0m \u001b[32m446.2/446.2 kB\u001b[0m \u001b[31m6.9 MB/s\u001b[0m eta \u001b[36m0:00:00\u001b[0m\n",
            "\u001b[?25h  Preparing metadata (setup.py) ... \u001b[?25l\u001b[?25hdone\n",
            "Building wheels for collected packages: pycrypto\n",
            "  Building wheel for pycrypto (setup.py) ... \u001b[?25l\u001b[?25hdone\n",
            "  Created wheel for pycrypto: filename=pycrypto-2.6.1-cp310-cp310-linux_x86_64.whl size=499154 sha256=74b22cd4341b9e0880bf657ac7e18e69d3195276e556aeac60abcaa76c9c671f\n",
            "  Stored in directory: /root/.cache/pip/wheels/e8/4b/5b/b10a6fc885057b6ff9fbd5691d7e700d0a9408f80b7e6f12e0\n",
            "Successfully built pycrypto\n",
            "Installing collected packages: pycrypto\n",
            "Successfully installed pycrypto-2.6.1\n"
          ]
        }
      ],
      "source": [
        "pip install pycrypto"
      ]
    },
    {
      "cell_type": "code",
      "execution_count": null,
      "metadata": {
        "colab": {
          "base_uri": "https://localhost:8080/"
        },
        "id": "HxoRepoEeZNh",
        "outputId": "b979312e-818c-438f-9050-2a1cc92064b1"
      },
      "outputs": [
        {
          "output_type": "stream",
          "name": "stdout",
          "text": [
            "Looking in indexes: https://pypi.org/simple, https://us-python.pkg.dev/colab-wheels/public/simple/\n",
            "Collecting pycryptodomex\n",
            "  Downloading pycryptodomex-3.18.0-cp35-abi3-manylinux_2_17_x86_64.manylinux2014_x86_64.whl (2.1 MB)\n",
            "\u001b[2K     \u001b[90m━━━━━━━━━━━━━━━━━━━━━━━━━━━━━━━━━━━━━━━━\u001b[0m \u001b[32m2.1/2.1 MB\u001b[0m \u001b[31m24.1 MB/s\u001b[0m eta \u001b[36m0:00:00\u001b[0m\n",
            "\u001b[?25hInstalling collected packages: pycryptodomex\n",
            "Successfully installed pycryptodomex-3.18.0\n"
          ]
        }
      ],
      "source": [
        "pip install pycryptodomex"
      ]
    },
    {
      "cell_type": "code",
      "execution_count": null,
      "metadata": {
        "colab": {
          "base_uri": "https://localhost:8080/"
        },
        "id": "itsW1q9LolZ6",
        "outputId": "3e645685-d6ed-41bd-9e74-59159a9bea0a"
      },
      "outputs": [
        {
          "output_type": "stream",
          "name": "stdout",
          "text": [
            "Looking in indexes: https://pypi.org/simple, https://us-python.pkg.dev/colab-wheels/public/simple/\n",
            "Requirement already satisfied: opencv-python in /usr/local/lib/python3.10/dist-packages (4.7.0.72)\n",
            "Requirement already satisfied: numpy>=1.21.2 in /usr/local/lib/python3.10/dist-packages (from opencv-python) (1.22.4)\n"
          ]
        }
      ],
      "source": [
        "pip install opencv-python"
      ]
    },
    {
      "cell_type": "code",
      "execution_count": null,
      "metadata": {
        "colab": {
          "base_uri": "https://localhost:8080/"
        },
        "id": "ZKOcvXJqoosj",
        "outputId": "3f94fcfb-6bea-4501-a0ff-9397d206bb6d"
      },
      "outputs": [
        {
          "output_type": "stream",
          "name": "stdout",
          "text": [
            "Looking in indexes: https://pypi.org/simple, https://us-python.pkg.dev/colab-wheels/public/simple/\n",
            "Requirement already satisfied: pillow in /usr/local/lib/python3.10/dist-packages (8.4.0)\n"
          ]
        }
      ],
      "source": [
        "pip install pillow"
      ]
    },
    {
      "cell_type": "markdown",
      "source": [
        "**KRIPTOGRAFI 3DES**"
      ],
      "metadata": {
        "id": "1QVSon8tj9I4"
      }
    },
    {
      "cell_type": "code",
      "execution_count": null,
      "metadata": {
        "colab": {
          "base_uri": "https://localhost:8080/"
        },
        "id": "tPVC1m0-7Zkx",
        "outputId": "2e647513-d7f3-431c-8400-278b02bbdf0a"
      },
      "outputs": [
        {
          "output_type": "stream",
          "name": "stdout",
          "text": [
            "Operasi Enkripsi 3DES:\n",
            "Directory lokasi: /content/test.txt\n",
            "Kunci 3DES: love\n",
            "Data Berhasil di Enkripsi :)\n"
          ]
        }
      ],
      "source": [
        "from Crypto.Cipher import DES3\n",
        "from Cryptodome.Cipher import DES3\n",
        "from hashlib import md5\n",
        "\n",
        "print('Operasi Enkripsi 3DES:')\n",
        "file_path = input('Directory lokasi: ')\n",
        "key = input('Kunci 3DES: ')\n",
        "key_hash = md5(key.encode('ascii')).digest()\n",
        "tdes_key = DES3.adjust_key_parity(key_hash)\n",
        "cipher = DES3.new(tdes_key, DES3.MODE_EAX, nonce=b'0')\n",
        "\n",
        "with open(file_path, 'rb') as input_file:\n",
        "\tfile_bytes = input_file.read()\n",
        "\tnew_file_bytes = cipher.encrypt(file_bytes)\n",
        "with open(file_path, 'wb') as output_file:\n",
        "\toutput_file.write(new_file_bytes)\n",
        "\t\n",
        "print ('Data Berhasil di Enkripsi :)')"
      ]
    },
    {
      "cell_type": "code",
      "execution_count": null,
      "metadata": {
        "colab": {
          "base_uri": "https://localhost:8080/"
        },
        "id": "zVo1E2pX7ea5",
        "outputId": "a10e577d-dc1d-422b-c2e4-19dc7d837ab4"
      },
      "outputs": [
        {
          "output_type": "stream",
          "name": "stdout",
          "text": [
            "Nama File :/content/test.txt\n",
            "b'\\x94g\\x07\\xdf!O\\x9a^\\xad\\x14,y\\xa5k\\x95'\n"
          ]
        }
      ],
      "source": [
        "a=input(\"Nama File :\")\n",
        "with open(a, 'rb') as input_file:\n",
        "  read_b = input_file.read()\n",
        "  print(read_b)"
      ]
    },
    {
      "cell_type": "code",
      "execution_count": null,
      "metadata": {
        "colab": {
          "base_uri": "https://localhost:8080/"
        },
        "id": "N4P9vCAB6j4v",
        "outputId": "ddd0d7fa-ee9e-45c4-d57e-e14b1f95aa73"
      },
      "outputs": [
        {
          "output_type": "stream",
          "name": "stdout",
          "text": [
            "Operasi Deskripsi 3DES:\n",
            "Directory lokasi: /content/test.txt\n",
            "Kunci 3DES: love\n",
            "Data Berhasil di Deskripsi :)\n"
          ]
        }
      ],
      "source": [
        "from Crypto.Cipher import DES3\n",
        "from Cryptodome.Cipher import DES3\n",
        "from hashlib import md5\n",
        "\n",
        "print('Operasi Deskripsi 3DES:')\n",
        "file_path = input('Directory lokasi: ')\n",
        "key = input('Kunci 3DES: ')\n",
        "key_hash = md5(key.encode('ascii')).digest()\n",
        "tdes_key = DES3.adjust_key_parity(key_hash)\n",
        "cipher = DES3.new(tdes_key, DES3.MODE_EAX, nonce=b'0')\n",
        "\n",
        "with open(file_path, 'rb') as input_file:\n",
        "\tfile_bytes = input_file.read()\n",
        "\tnew_file_bytes = cipher.decrypt(file_bytes)\n",
        "with open(file_path, 'wb') as output_file:\n",
        "\toutput_file.write(new_file_bytes)\n",
        "\t\n",
        "print ('Data Berhasil di Deskripsi :)')"
      ]
    },
    {
      "cell_type": "code",
      "source": [
        "a=input(\"Nama File :\")\n",
        "with open(a, 'rb') as input_file:\n",
        "  read_b = input_file.read()\n",
        "  print(read_b)"
      ],
      "metadata": {
        "colab": {
          "base_uri": "https://localhost:8080/"
        },
        "id": "2rSoRAC-jzlL",
        "outputId": "d3c53013-e53e-425f-b8b0-aa8fabd1de3f"
      },
      "execution_count": null,
      "outputs": [
        {
          "output_type": "stream",
          "name": "stdout",
          "text": [
            "Nama File :/content/test.txt\n",
            "b'aku sayang kamu'\n"
          ]
        }
      ]
    },
    {
      "cell_type": "markdown",
      "metadata": {
        "id": "9zzEo_N7xkPP"
      },
      "source": [
        "**LSB Steganografi**"
      ]
    },
    {
      "cell_type": "code",
      "source": [
        "pip install pycryptodome"
      ],
      "metadata": {
        "colab": {
          "base_uri": "https://localhost:8080/"
        },
        "id": "Gp4kfo0Jk3TF",
        "outputId": "8c963365-3ae1-46ba-8b6a-bf18bb955d21"
      },
      "execution_count": 10,
      "outputs": [
        {
          "output_type": "stream",
          "name": "stdout",
          "text": [
            "Looking in indexes: https://pypi.org/simple, https://us-python.pkg.dev/colab-wheels/public/simple/\n",
            "Requirement already satisfied: pycryptodome in /usr/local/lib/python3.10/dist-packages (3.18.0)\n"
          ]
        }
      ]
    },
    {
      "cell_type": "code",
      "source": [
        "from base64 import b64encode,b64decode\n",
        "from Crypto.Cipher import DES3\n",
        "from Crypto.Util.Padding import pad,unpad\n",
        "key = b'abcdefghijklmnopqrstuvwx' #kunci 24 huruf\n",
        "def enkrip (message):\n",
        "  enc = DES3.new (key,DES3.MODE_EAX)\n",
        "  nonce = enc.nonce\n",
        "  ciphered_encode = enc.encrypt(message.encode('ascii'))\n",
        "  return nonce, ciphered_encode\n",
        "\n",
        "nonce, ciphertext = enkrip(input(\"Plainteks : \"))\n",
        "\n",
        "enc = b64encode(ciphertext).decode('utf-8')\n",
        "print(\"Cipherteks :\",enc)"
      ],
      "metadata": {
        "colab": {
          "base_uri": "https://localhost:8080/"
        },
        "id": "Qf2w9_-VTGPF",
        "outputId": "0992ac39-832d-4181-aaac-68d946354df6"
      },
      "execution_count": 19,
      "outputs": [
        {
          "output_type": "stream",
          "name": "stdout",
          "text": [
            "Plainteks : maaf yah\n",
            "Cipherteks : 9OI9jtj3nzk=\n"
          ]
        }
      ]
    },
    {
      "cell_type": "code",
      "source": [
        "#import libraries\n",
        "import sys\n",
        "import numpy as np\n",
        "from PIL import Image\n",
        "np.set_printoptions(threshold=sys.maxsize)\n",
        "\n",
        "#encoding function\n",
        "def Encode(src, message, dest):\n",
        "\n",
        "    img = Image.open(src, 'r')\n",
        "    width, height = img.size\n",
        "    array = np.array(list(img.getdata()))\n",
        "\n",
        "    if img.mode == 'RGB':\n",
        "        n = 3\n",
        "    elif img.mode == 'RGBA':\n",
        "        n = 4\n",
        "\n",
        "    total_pixels = array.size//n\n",
        "\n",
        "    message += \"$t3g0\"\n",
        "    b_message = ''.join([format(ord(i), \"08b\") for i in message])\n",
        "    req_pixels = len(b_message)\n",
        "\n",
        "    if req_pixels > total_pixels:\n",
        "        print(\"ERROR: Need larger file size\")\n",
        "\n",
        "    else:\n",
        "        index=0\n",
        "        for p in range(total_pixels):\n",
        "            for q in range(0, 3):\n",
        "                if index < req_pixels:\n",
        "                    array[p][q] = int(bin(array[p][q])[2:9] + b_message[index], 2)\n",
        "                    index += 1\n",
        "\n",
        "        array=array.reshape(height, width, n)\n",
        "        enc_img = Image.fromarray(array.astype('uint8'), img.mode)\n",
        "        enc_img.save(dest)\n",
        "        print(\"Image Encoded Successfully\")\n",
        "\n",
        "\n",
        "#decoding function\n",
        "def Decode(src):\n",
        "\n",
        "    img = Image.open(src, 'r')\n",
        "    array = np.array(list(img.getdata()))\n",
        "\n",
        "    if img.mode == 'RGB':\n",
        "        n = 3\n",
        "    elif img.mode == 'RGBA':\n",
        "        n = 4\n",
        "\n",
        "    total_pixels = array.size//n\n",
        "\n",
        "    hidden_bits = \"\"\n",
        "    for p in range(total_pixels):\n",
        "        for q in range(0, 3):\n",
        "            hidden_bits += (bin(array[p][q])[2:][-1])\n",
        "\n",
        "    hidden_bits = [hidden_bits[i:i+8] for i in range(0, len(hidden_bits), 8)]\n",
        "\n",
        "    message = \"\"\n",
        "    for i in range(len(hidden_bits)):\n",
        "        if message[-5:] == \"$t3g0\":\n",
        "            break\n",
        "        else:\n",
        "            message += chr(int(hidden_bits[i], 2))\n",
        "    if \"$t3g0\" in message:\n",
        "        print(\"Hidden Message:\", message[:-5])\n",
        "    else:\n",
        "        print(enc)\n",
        "    \n",
        "    \n",
        "\n",
        "#main function\n",
        "def Stego():\n",
        "    print(\"--Welcome to $t3g0--\")\n",
        "    print(\"1: Encode\")\n",
        "    print(\"2: Decode\")\n",
        "\n",
        "    func = input()\n",
        "\n",
        "    if func == '1':\n",
        "        print(\"Enter Source Image Path\")\n",
        "        src = input()\n",
        "        print(\"Enter Message to Hide\")\n",
        "        message = enc\n",
        "        print(\"Enter Destination Image Path\")\n",
        "        dest = input()\n",
        "        print(\"Encoding...\")\n",
        "        Encode(src, message, dest)\n",
        "\n",
        "    elif func == '2':\n",
        "        print(\"Enter Source Image Path\")\n",
        "        src = input()\n",
        "        Decode(src)\n",
        "\n",
        "    else:\n",
        "        print(\"ERROR: Invalid option chosen\")\n",
        "\n",
        "Stego()\n"
      ],
      "metadata": {
        "colab": {
          "base_uri": "https://localhost:8080/"
        },
        "id": "8zB1D6mIQO2t",
        "outputId": "22fa397f-949b-41f6-8596-6f8aff43e06b"
      },
      "execution_count": 22,
      "outputs": [
        {
          "output_type": "stream",
          "name": "stdout",
          "text": [
            "--Welcome to $t3g0--\n",
            "1: Encode\n",
            "2: Decode\n",
            "2\n",
            "Enter Source Image Path\n",
            "as.jpeg\n",
            "9OI9jtj3nzk=\n"
          ]
        }
      ]
    }
  ],
  "metadata": {
    "colab": {
      "provenance": []
    },
    "kernelspec": {
      "display_name": "Python 3",
      "name": "python3"
    },
    "language_info": {
      "name": "python"
    }
  },
  "nbformat": 4,
  "nbformat_minor": 0
}